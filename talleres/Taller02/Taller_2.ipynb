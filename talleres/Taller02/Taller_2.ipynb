{
 "cells": [
  {
   "cell_type": "markdown",
   "metadata": {
    "slideshow": {
     "slide_type": "slide"
    }
   },
   "source": [
    "# 🔁 Ayudantía 02: Graficando coordenadas polares\n",
    "\n",
    "## Pablo Zurita Soler (pzurita@uc.cl)"
   ]
  },
  {
   "cell_type": "markdown",
   "metadata": {
    "slideshow": {
     "slide_type": "slide"
    }
   },
   "source": [
    "En esta ayudantía veremos cómo graficar coordenadas polares (o equivalentemente, secciones de coordenadas cilíndricas) usando `matplotlib`."
   ]
  },
  {
   "cell_type": "code",
   "execution_count": null,
   "metadata": {
    "slideshow": {
     "slide_type": "-"
    }
   },
   "outputs": [],
   "source": [
    "import numpy as np\n",
    "import matplotlib.pyplot as plt\n",
    "plt.style.use('ggplot')"
   ]
  },
  {
   "cell_type": "markdown",
   "metadata": {
    "slideshow": {
     "slide_type": "slide"
    }
   },
   "source": [
    "Primero, debemos generar una grilla en el espacio polar."
   ]
  },
  {
   "cell_type": "code",
   "execution_count": null,
   "metadata": {
    "slideshow": {
     "slide_type": "-"
    }
   },
   "outputs": [],
   "source": [
    "R = np.linspace(5, 10, 10)\n",
    "T = np.linspace(0, 2*np.pi, 12)\n",
    "RR, TT = np.meshgrid(R, T)"
   ]
  },
  {
   "cell_type": "markdown",
   "metadata": {
    "slideshow": {
     "slide_type": "slide"
    }
   },
   "source": [
    "¿Qué pasa si tratamos de graficar esto?"
   ]
  },
  {
   "cell_type": "code",
   "execution_count": null,
   "metadata": {
    "slideshow": {
     "slide_type": "-"
    }
   },
   "outputs": [],
   "source": [
    "plt.figure()\n",
    "plt.plot(RR, TT, '.', color='black')\n",
    "plt.axis('equal')"
   ]
  },
  {
   "cell_type": "markdown",
   "metadata": {
    "slideshow": {
     "slide_type": "slide"
    }
   },
   "source": [
    "Estamos graficando en el espacio polar, no vemos nada circular 😭. Por suerte, como `numpy` opera sobre arreglos elemento a elemento, podemos hacer lo siguiente..."
   ]
  },
  {
   "cell_type": "code",
   "execution_count": null,
   "metadata": {
    "slideshow": {
     "slide_type": "slide"
    }
   },
   "outputs": [],
   "source": [
    "XX = RR*np.cos(TT)\n",
    "YY = RR*np.sin(TT)\n",
    "\n",
    "plt.figure()\n",
    "plt.plot(XX, YY, '.', color='black')\n",
    "plt.axis('equal')"
   ]
  },
  {
   "cell_type": "markdown",
   "metadata": {
    "slideshow": {
     "slide_type": "slide"
    }
   },
   "source": [
    "Al operar elemento a elemento sobre los arreglos de coordenadas polares, efectivamente estamos transformando las coordenadas de los arreglos a cartesianas 🤯. Así podemos visualizar los mismos puntos, pero en un espacio coordenado cartesiano (donde cobra sentido nuestra grilla)."
   ]
  },
  {
   "cell_type": "markdown",
   "metadata": {
    "slideshow": {
     "slide_type": "slide"
    }
   },
   "source": [
    "¿Qué pasa si yo quiero graficar varios _sets_ de puntos distintos?"
   ]
  },
  {
   "cell_type": "code",
   "execution_count": null,
   "metadata": {
    "slideshow": {
     "slide_type": "-"
    }
   },
   "outputs": [],
   "source": [
    "def phi(R, T):\n",
    "    r = R**2/8\n",
    "    t = T/10\n",
    "    return r, t\n",
    "\n",
    "rr, tt = phi(RR,TT)\n",
    "\n",
    "xx = rr*np.cos(tt)\n",
    "yy = rr*np.sin(tt)"
   ]
  },
  {
   "cell_type": "code",
   "execution_count": null,
   "metadata": {
    "slideshow": {
     "slide_type": "slide"
    }
   },
   "outputs": [],
   "source": [
    "plt.figure()\n",
    "plt.plot(XX, YY, '.', color='black', alpha=1)\n",
    "plt.plot(xx, yy, '.', color='black', alpha=1/3)\n",
    "plt.axis('equal')"
   ]
  },
  {
   "cell_type": "markdown",
   "metadata": {
    "slideshow": {
     "slide_type": "slide"
    }
   },
   "source": [
    "Puedo aplicar funciones sobre los arreglos para modificarlos, y graficarlos en una misma figura (teniendo ojo de que se distingan)."
   ]
  },
  {
   "cell_type": "markdown",
   "metadata": {
    "slideshow": {
     "slide_type": "slide"
    }
   },
   "source": [
    "Por último, ¿qué pasa si yo quiero graficar _campos_ sobre esta grilla?\n",
    "\n",
    "Primero, necesito un arreglo **con la misma cantidad de puntos** que la grilla para guardar los valores del campo en cada punto. Por ejemplo, $f_{ij} = f(x_{ij})$.\n",
    "\n",
    "Notarán que además nos gustaría que el arreglo tenga **la misma forma de la grilla** para poder indexarlo de manera natural. Podríamos tener $f_{i}$ y que sea más largo (por ejemplo, de largo $N^2$ si la grilla fuera de $N\\times N$), pero en este momento eso no es necesario."
   ]
  },
  {
   "cell_type": "code",
   "execution_count": null,
   "metadata": {
    "slideshow": {
     "slide_type": "-"
    }
   },
   "outputs": [],
   "source": [
    "E_rr = np.zeros(RR.shape)"
   ]
  },
  {
   "cell_type": "markdown",
   "metadata": {
    "slideshow": {
     "slide_type": "slide"
    }
   },
   "source": [
    "Esto solo sirve para **campos escalares**, pues para cada punto de la grilla tenemos _una_ entrada para guardar un valor asociado ($f : \\Omega \\to \\mathbb{R}$ o $f : \\Omega \\to \\mathbb{C}$). Si queremos guardar una representación de un **campo tensorial**, necesitamos _un (sub)arreglo asociado a cada punto_."
   ]
  },
  {
   "cell_type": "code",
   "execution_count": null,
   "metadata": {
    "slideshow": {
     "slide_type": "-"
    }
   },
   "outputs": [],
   "source": [
    "F = np.zeros((*RR.shape, 2, 2))\n",
    "F.shape"
   ]
  },
  {
   "cell_type": "markdown",
   "metadata": {
    "slideshow": {
     "slide_type": "slide"
    }
   },
   "source": [
    "Luego podemos recorrer la grilla para asignar valores. En un problema complicado, normalmente habrían otras maneras de hacer esto, pues el recorrer la grilla uno a uno nos restringe a grillas no muy grandes. Dentro del recorrido uno puede realizar cuantas operaciones quiera: **esto es muy conveniente**."
   ]
  },
  {
   "cell_type": "code",
   "execution_count": null,
   "metadata": {
    "slideshow": {
     "slide_type": "slide"
    }
   },
   "outputs": [],
   "source": [
    "for i in range(len(RR[:, 0])):\n",
    "    for j in range(len(RR[0, :])):\n",
    "        local_F = np.array([\n",
    "            [RR[i, j]/4, 0],\n",
    "            [0, 1/10]\n",
    "        ])\n",
    "        F[i, j] = local_F\n",
    "        \n",
    "        Q = np.array([\n",
    "            [np.cos(TT[i, j]), -np.sin(TT[i, j])],\n",
    "            [np.sin(TT[i, j]), np.cos(TT[i, j])]\n",
    "        ])      \n",
    "        \n",
    "        local_E = 1/2*(np.transpose(local_F) @ local_F - np.identity(len(local_F)))\n",
    "        E_rr[i, j] = local_E[0, 0]\n",
    "        \n",
    "        local_other_E = Q @ local_E @ np.transpose(Q)"
   ]
  },
  {
   "cell_type": "markdown",
   "metadata": {
    "slideshow": {
     "slide_type": "slide"
    }
   },
   "source": [
    "A ver cómo quedó..."
   ]
  },
  {
   "cell_type": "code",
   "execution_count": null,
   "metadata": {
    "slideshow": {
     "slide_type": "-"
    }
   },
   "outputs": [],
   "source": [
    "plt.figure()\n",
    "plt.pcolor(XX, YY, E_rr)\n",
    "plt.colorbar(label = r'$E_{rr}$')\n",
    "plt.axis('equal')"
   ]
  },
  {
   "cell_type": "markdown",
   "metadata": {
    "slideshow": {
     "slide_type": "slide"
    }
   },
   "source": [
    "¡Voilà! 🎉 Así podemos graficar campos sobre coordenadas polares usando solo `numpy` y `matplotlib`."
   ]
  }
 ],
 "metadata": {
  "celltoolbar": "Slideshow",
  "kernelspec": {
   "display_name": "Python 3",
   "language": "python",
   "name": "python3"
  },
  "language_info": {
   "codemirror_mode": {
    "name": "ipython",
    "version": 3
   },
   "file_extension": ".py",
   "mimetype": "text/x-python",
   "name": "python",
   "nbconvert_exporter": "python",
   "pygments_lexer": "ipython3",
   "version": "3.7.3"
  }
 },
 "nbformat": 4,
 "nbformat_minor": 4
}
